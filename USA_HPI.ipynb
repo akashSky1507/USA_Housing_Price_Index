{
 "cells": [
  {
   "cell_type": "code",
   "execution_count": 1,
   "id": "9696eb3b",
   "metadata": {},
   "outputs": [],
   "source": [
    "import numpy as np\n",
    "import pandas as pd\n"
   ]
  },
  {
   "cell_type": "code",
   "execution_count": 2,
   "id": "c9183cf5",
   "metadata": {},
   "outputs": [],
   "source": [
    "import seaborn as sns\n",
    "import matplotlib.pyplot as plt\n",
    "%matplotlib inline"
   ]
  },
  {
   "cell_type": "code",
   "execution_count": 3,
   "id": "1b5eadb9",
   "metadata": {},
   "outputs": [],
   "source": [
    "dataset1 = pd.read_csv('supply.csv')\n",
    "\n",
    "dataset2 = pd.read_csv('demand.csv')\n",
    "hpi=pd.read_csv('hpi.csv')\n"
   ]
  },
  {
   "cell_type": "code",
   "execution_count": 4,
   "id": "7b501f2b",
   "metadata": {},
   "outputs": [
    {
     "data": {
      "text/html": [
       "<div>\n",
       "<style scoped>\n",
       "    .dataframe tbody tr th:only-of-type {\n",
       "        vertical-align: middle;\n",
       "    }\n",
       "\n",
       "    .dataframe tbody tr th {\n",
       "        vertical-align: top;\n",
       "    }\n",
       "\n",
       "    .dataframe thead th {\n",
       "        text-align: right;\n",
       "    }\n",
       "</style>\n",
       "<table border=\"1\" class=\"dataframe\">\n",
       "  <thead>\n",
       "    <tr style=\"text-align: right;\">\n",
       "      <th></th>\n",
       "      <th>DATE</th>\n",
       "      <th>CSUSHPISA</th>\n",
       "    </tr>\n",
       "  </thead>\n",
       "  <tbody>\n",
       "    <tr>\n",
       "      <th>0</th>\n",
       "      <td>2003-01-01</td>\n",
       "      <td>128.460</td>\n",
       "    </tr>\n",
       "    <tr>\n",
       "      <th>1</th>\n",
       "      <td>2003-02-01</td>\n",
       "      <td>129.355</td>\n",
       "    </tr>\n",
       "    <tr>\n",
       "      <th>2</th>\n",
       "      <td>2003-03-01</td>\n",
       "      <td>130.147</td>\n",
       "    </tr>\n",
       "    <tr>\n",
       "      <th>3</th>\n",
       "      <td>2003-04-01</td>\n",
       "      <td>130.884</td>\n",
       "    </tr>\n",
       "    <tr>\n",
       "      <th>4</th>\n",
       "      <td>2003-05-01</td>\n",
       "      <td>131.734</td>\n",
       "    </tr>\n",
       "  </tbody>\n",
       "</table>\n",
       "</div>"
      ],
      "text/plain": [
       "         DATE  CSUSHPISA\n",
       "0  2003-01-01    128.460\n",
       "1  2003-02-01    129.355\n",
       "2  2003-03-01    130.147\n",
       "3  2003-04-01    130.884\n",
       "4  2003-05-01    131.734"
      ]
     },
     "execution_count": 4,
     "metadata": {},
     "output_type": "execute_result"
    }
   ],
   "source": [
    "hpi.head()"
   ]
  },
  {
   "cell_type": "code",
   "execution_count": 5,
   "id": "9a32578d",
   "metadata": {},
   "outputs": [],
   "source": [
    "dataset1['DATE'] = pd.to_datetime(dataset1['DATE'])\n",
    "dataset1['DATE'] = pd.to_datetime(dataset1.DATE, format='%Y-%m-%d')\n",
    "dataset2['DATE'] = pd.to_datetime(dataset2['DATE'])\n",
    "dataset2['DATE'] = pd.to_datetime(dataset2.DATE, format='%Y-%m-%d')\n",
    "hpi['DATE'] = pd.to_datetime(hpi['DATE'])\n",
    "hpi['DATE'] = pd.to_datetime(hpi.DATE, format='%Y-%m-%d')"
   ]
  },
  {
   "cell_type": "code",
   "execution_count": 6,
   "id": "4e3e911b",
   "metadata": {},
   "outputs": [],
   "source": [
    "dataset3 = pd.merge(dataset1, dataset2)\n",
    "dataset3.to_csv('dataset3.csv', index=False)"
   ]
  },
  {
   "cell_type": "code",
   "execution_count": 7,
   "id": "092fb0c3",
   "metadata": {},
   "outputs": [],
   "source": [
    "HPI = pd.merge(dataset3, hpi)\n",
    "HPI.to_csv('HPI.csv', index=False)"
   ]
  },
  {
   "cell_type": "code",
   "execution_count": 8,
   "id": "93363302",
   "metadata": {},
   "outputs": [
    {
     "name": "stdout",
     "output_type": "stream",
     "text": [
      "<class 'pandas.core.frame.DataFrame'>\n",
      "Int64Index: 21 entries, 0 to 20\n",
      "Data columns (total 10 columns):\n",
      " #   Column                 Non-Null Count  Dtype         \n",
      "---  ------                 --------------  -----         \n",
      " 0   DATE                   21 non-null     datetime64[ns]\n",
      " 1   Construction_Spending  21 non-null     int64         \n",
      " 2   Median_Sale_price      21 non-null     int64         \n",
      " 3   PERMIT                 21 non-null     int64         \n",
      " 4   Available_Homes        21 non-null     int64         \n",
      " 5   GDP                    21 non-null     float64       \n",
      " 6   Median_Earnings        21 non-null     float64       \n",
      " 7   MORTGAGE_Rates(%)      21 non-null     object        \n",
      " 8   Unemplyment(%)         21 non-null     object        \n",
      " 9   CSUSHPISA              21 non-null     float64       \n",
      "dtypes: datetime64[ns](1), float64(3), int64(4), object(2)\n",
      "memory usage: 1.8+ KB\n"
     ]
    }
   ],
   "source": [
    "HPI.info()"
   ]
  },
  {
   "cell_type": "code",
   "execution_count": 9,
   "id": "99043580",
   "metadata": {},
   "outputs": [
    {
     "data": {
      "text/html": [
       "<div>\n",
       "<style scoped>\n",
       "    .dataframe tbody tr th:only-of-type {\n",
       "        vertical-align: middle;\n",
       "    }\n",
       "\n",
       "    .dataframe tbody tr th {\n",
       "        vertical-align: top;\n",
       "    }\n",
       "\n",
       "    .dataframe thead th {\n",
       "        text-align: right;\n",
       "    }\n",
       "</style>\n",
       "<table border=\"1\" class=\"dataframe\">\n",
       "  <thead>\n",
       "    <tr style=\"text-align: right;\">\n",
       "      <th></th>\n",
       "      <th>DATE</th>\n",
       "      <th>Construction_Spending</th>\n",
       "      <th>Median_Sale_price</th>\n",
       "      <th>PERMIT</th>\n",
       "      <th>Available_Homes</th>\n",
       "      <th>GDP</th>\n",
       "      <th>Median_Earnings</th>\n",
       "      <th>MORTGAGE_Rates(%)</th>\n",
       "      <th>Unemplyment(%)</th>\n",
       "      <th>CSUSHPISA</th>\n",
       "    </tr>\n",
       "  </thead>\n",
       "  <tbody>\n",
       "    <tr>\n",
       "      <th>0</th>\n",
       "      <td>2003-01-01</td>\n",
       "      <td>863855</td>\n",
       "      <td>181700</td>\n",
       "      <td>1808</td>\n",
       "      <td>1654</td>\n",
       "      <td>13619.43</td>\n",
       "      <td>615.0</td>\n",
       "      <td>5.84</td>\n",
       "      <td>5.87</td>\n",
       "      <td>128.460</td>\n",
       "    </tr>\n",
       "    <tr>\n",
       "      <th>1</th>\n",
       "      <td>2004-01-01</td>\n",
       "      <td>938525</td>\n",
       "      <td>209500</td>\n",
       "      <td>1952</td>\n",
       "      <td>1709</td>\n",
       "      <td>14212.34</td>\n",
       "      <td>629.0</td>\n",
       "      <td>5.60</td>\n",
       "      <td>5.70</td>\n",
       "      <td>141.646</td>\n",
       "    </tr>\n",
       "    <tr>\n",
       "      <th>2</th>\n",
       "      <td>2005-01-01</td>\n",
       "      <td>1046082</td>\n",
       "      <td>223100</td>\n",
       "      <td>2139</td>\n",
       "      <td>1892</td>\n",
       "      <td>14767.85</td>\n",
       "      <td>647.0</td>\n",
       "      <td>5.77</td>\n",
       "      <td>5.30</td>\n",
       "      <td>161.288</td>\n",
       "    </tr>\n",
       "    <tr>\n",
       "      <th>3</th>\n",
       "      <td>2006-01-01</td>\n",
       "      <td>1195642</td>\n",
       "      <td>244900</td>\n",
       "      <td>2212</td>\n",
       "      <td>2036</td>\n",
       "      <td>15244.09</td>\n",
       "      <td>662.0</td>\n",
       "      <td>6.25</td>\n",
       "      <td>4.73</td>\n",
       "      <td>182.320</td>\n",
       "    </tr>\n",
       "    <tr>\n",
       "      <th>4</th>\n",
       "      <td>2007-01-01</td>\n",
       "      <td>1137917</td>\n",
       "      <td>254400</td>\n",
       "      <td>1626</td>\n",
       "      <td>1822</td>\n",
       "      <td>15478.96</td>\n",
       "      <td>687.0</td>\n",
       "      <td>6.21</td>\n",
       "      <td>4.50</td>\n",
       "      <td>184.516</td>\n",
       "    </tr>\n",
       "  </tbody>\n",
       "</table>\n",
       "</div>"
      ],
      "text/plain": [
       "        DATE  Construction_Spending  Median_Sale_price  PERMIT  \\\n",
       "0 2003-01-01                 863855             181700    1808   \n",
       "1 2004-01-01                 938525             209500    1952   \n",
       "2 2005-01-01                1046082             223100    2139   \n",
       "3 2006-01-01                1195642             244900    2212   \n",
       "4 2007-01-01                1137917             254400    1626   \n",
       "\n",
       "   Available_Homes       GDP  Median_Earnings MORTGAGE_Rates(%)  \\\n",
       "0             1654  13619.43            615.0              5.84   \n",
       "1             1709  14212.34            629.0              5.60   \n",
       "2             1892  14767.85            647.0              5.77   \n",
       "3             2036  15244.09            662.0              6.25   \n",
       "4             1822  15478.96            687.0              6.21   \n",
       "\n",
       "  Unemplyment(%)  CSUSHPISA  \n",
       "0           5.87    128.460  \n",
       "1           5.70    141.646  \n",
       "2           5.30    161.288  \n",
       "3           4.73    182.320  \n",
       "4           4.50    184.516  "
      ]
     },
     "execution_count": 9,
     "metadata": {},
     "output_type": "execute_result"
    }
   ],
   "source": [
    "HPI.head()"
   ]
  },
  {
   "cell_type": "code",
   "execution_count": 10,
   "id": "baf40973",
   "metadata": {},
   "outputs": [],
   "source": [
    "HPI['DATE'] = pd.to_datetime(HPI['DATE'])\n",
    "HPI['DATE'] = pd.to_datetime(HPI.DATE, format='%Y-%m-%d')"
   ]
  },
  {
   "cell_type": "code",
   "execution_count": 11,
   "id": "376f5488",
   "metadata": {},
   "outputs": [],
   "source": [
    "HPI =HPI.drop('DATE', axis=1)"
   ]
  },
  {
   "cell_type": "code",
   "execution_count": 12,
   "id": "eb2ceb77",
   "metadata": {},
   "outputs": [
    {
     "data": {
      "text/html": [
       "<div>\n",
       "<style scoped>\n",
       "    .dataframe tbody tr th:only-of-type {\n",
       "        vertical-align: middle;\n",
       "    }\n",
       "\n",
       "    .dataframe tbody tr th {\n",
       "        vertical-align: top;\n",
       "    }\n",
       "\n",
       "    .dataframe thead th {\n",
       "        text-align: right;\n",
       "    }\n",
       "</style>\n",
       "<table border=\"1\" class=\"dataframe\">\n",
       "  <thead>\n",
       "    <tr style=\"text-align: right;\">\n",
       "      <th></th>\n",
       "      <th>Construction_Spending</th>\n",
       "      <th>Median_Sale_price</th>\n",
       "      <th>PERMIT</th>\n",
       "      <th>Available_Homes</th>\n",
       "      <th>GDP</th>\n",
       "      <th>Median_Earnings</th>\n",
       "      <th>MORTGAGE_Rates(%)</th>\n",
       "      <th>Unemplyment(%)</th>\n",
       "      <th>CSUSHPISA</th>\n",
       "    </tr>\n",
       "  </thead>\n",
       "  <tbody>\n",
       "    <tr>\n",
       "      <th>0</th>\n",
       "      <td>863855</td>\n",
       "      <td>181700</td>\n",
       "      <td>1808</td>\n",
       "      <td>1654</td>\n",
       "      <td>13619.43</td>\n",
       "      <td>615.0</td>\n",
       "      <td>5.84</td>\n",
       "      <td>5.87</td>\n",
       "      <td>128.460</td>\n",
       "    </tr>\n",
       "    <tr>\n",
       "      <th>1</th>\n",
       "      <td>938525</td>\n",
       "      <td>209500</td>\n",
       "      <td>1952</td>\n",
       "      <td>1709</td>\n",
       "      <td>14212.34</td>\n",
       "      <td>629.0</td>\n",
       "      <td>5.60</td>\n",
       "      <td>5.70</td>\n",
       "      <td>141.646</td>\n",
       "    </tr>\n",
       "    <tr>\n",
       "      <th>2</th>\n",
       "      <td>1046082</td>\n",
       "      <td>223100</td>\n",
       "      <td>2139</td>\n",
       "      <td>1892</td>\n",
       "      <td>14767.85</td>\n",
       "      <td>647.0</td>\n",
       "      <td>5.77</td>\n",
       "      <td>5.30</td>\n",
       "      <td>161.288</td>\n",
       "    </tr>\n",
       "    <tr>\n",
       "      <th>3</th>\n",
       "      <td>1195642</td>\n",
       "      <td>244900</td>\n",
       "      <td>2212</td>\n",
       "      <td>2036</td>\n",
       "      <td>15244.09</td>\n",
       "      <td>662.0</td>\n",
       "      <td>6.25</td>\n",
       "      <td>4.73</td>\n",
       "      <td>182.320</td>\n",
       "    </tr>\n",
       "    <tr>\n",
       "      <th>4</th>\n",
       "      <td>1137917</td>\n",
       "      <td>254400</td>\n",
       "      <td>1626</td>\n",
       "      <td>1822</td>\n",
       "      <td>15478.96</td>\n",
       "      <td>687.0</td>\n",
       "      <td>6.21</td>\n",
       "      <td>4.50</td>\n",
       "      <td>184.516</td>\n",
       "    </tr>\n",
       "  </tbody>\n",
       "</table>\n",
       "</div>"
      ],
      "text/plain": [
       "   Construction_Spending  Median_Sale_price  PERMIT  Available_Homes  \\\n",
       "0                 863855             181700    1808             1654   \n",
       "1                 938525             209500    1952             1709   \n",
       "2                1046082             223100    2139             1892   \n",
       "3                1195642             244900    2212             2036   \n",
       "4                1137917             254400    1626             1822   \n",
       "\n",
       "        GDP  Median_Earnings MORTGAGE_Rates(%) Unemplyment(%)  CSUSHPISA  \n",
       "0  13619.43            615.0              5.84           5.87    128.460  \n",
       "1  14212.34            629.0              5.60           5.70    141.646  \n",
       "2  14767.85            647.0              5.77           5.30    161.288  \n",
       "3  15244.09            662.0              6.25           4.73    182.320  \n",
       "4  15478.96            687.0              6.21           4.50    184.516  "
      ]
     },
     "execution_count": 12,
     "metadata": {},
     "output_type": "execute_result"
    }
   ],
   "source": [
    "HPI.head()"
   ]
  },
  {
   "cell_type": "code",
   "execution_count": 13,
   "id": "ab8e2a5e",
   "metadata": {},
   "outputs": [
    {
     "data": {
      "image/png": "[encoded data removed]",
      "text/plain": [
       "<Figure size 1080x1080 with 2 Axes>"
      ]
     },
     "metadata": {
      "needs_background": "light"
     },
     "output_type": "display_data"
    }
   ],
   "source": [
    "plt.figure(figsize=(15,15))\n",
    "sns.heatmap(HPI.corr(),annot=True)\n",
    "plt.show()"
   ]
  },
  {
   "cell_type": "code",
   "execution_count": 14,
   "id": "92fe6627",
   "metadata": {},
   "outputs": [],
   "source": [
    "from sklearn.ensemble import RandomForestRegressor\n",
    "from sklearn.pipeline import Pipeline\n",
    "from sklearn.impute import SimpleImputer"
   ]
  },
  {
   "cell_type": "code",
   "execution_count": 15,
   "id": "b1ab83c8",
   "metadata": {},
   "outputs": [],
   "source": [
    "from sklearn.linear_model import LinearRegression\n",
    "from sklearn.metrics import r2_score\n",
    "from sklearn.ensemble import RandomForestRegressor, GradientBoostingRegressor\n",
    "from sklearn.linear_model import LinearRegression\n",
    "from sklearn.model_selection import cross_val_score\n",
    "from sklearn.metrics import mean_absolute_error, mean_squared_error, r2_score"
   ]
  },
  {
   "cell_type": "code",
   "execution_count": 18,
   "id": "c39add5d",
   "metadata": {},
   "outputs": [],
   "source": [
    "X=HPI.drop(['CSUSHPISA'],axis=1)\n",
    "y=HPI['CSUSHPISA']"
   ]
  },
  {
   "cell_type": "code",
   "execution_count": 20,
   "id": "cca8643b",
   "metadata": {},
   "outputs": [],
   "source": [
    "from sklearn.model_selection import train_test_split\n",
    "X_train, X_test, y_train, y_test = train_test_split(X,y,test_size=0.2,random_state=10)"
   ]
  },
  {
   "cell_type": "code",
   "execution_count": 21,
   "id": "d6ef028a",
   "metadata": {},
   "outputs": [
    {
     "data": {
      "text/plain": [
       "LinearRegression()"
      ]
     },
     "execution_count": 21,
     "metadata": {},
     "output_type": "execute_result"
    }
   ],
   "source": [
    "from sklearn.linear_model import LinearRegression\n",
    "model= LinearRegression()\n",
    "model.fit(X_train,y_train)\n"
   ]
  },
  {
   "cell_type": "code",
   "execution_count": 24,
   "id": "e1ad4e46",
   "metadata": {},
   "outputs": [
    {
     "data": {
      "text/plain": [
       "array([0.96102321, 0.95113037, 0.9368863 , 0.96033527, 0.97046016])"
      ]
     },
     "execution_count": 24,
     "metadata": {},
     "output_type": "execute_result"
    }
   ],
   "source": [
    "from sklearn.model_selection import ShuffleSplit\n",
    "from sklearn.model_selection import cross_val_score\n",
    "\n",
    "cv = ShuffleSplit(n_splits=5, test_size=0.2, random_state=0)\n",
    "\n",
    "cross_val_score(LinearRegression(), X, y, cv=cv)"
   ]
  },
  {
   "cell_type": "code",
   "execution_count": 28,
   "id": "ec2d0ac1",
   "metadata": {},
   "outputs": [
    {
     "data": {
      "text/html": [
       "<div>\n",
       "<style scoped>\n",
       "    .dataframe tbody tr th:only-of-type {\n",
       "        vertical-align: middle;\n",
       "    }\n",
       "\n",
       "    .dataframe tbody tr th {\n",
       "        vertical-align: top;\n",
       "    }\n",
       "\n",
       "    .dataframe thead th {\n",
       "        text-align: right;\n",
       "    }\n",
       "</style>\n",
       "<table border=\"1\" class=\"dataframe\">\n",
       "  <thead>\n",
       "    <tr style=\"text-align: right;\">\n",
       "      <th></th>\n",
       "      <th>model</th>\n",
       "      <th>best_score</th>\n",
       "      <th>best_params</th>\n",
       "    </tr>\n",
       "  </thead>\n",
       "  <tbody>\n",
       "    <tr>\n",
       "      <th>0</th>\n",
       "      <td>linear_regression</td>\n",
       "      <td>0.955967</td>\n",
       "      <td>{}</td>\n",
       "    </tr>\n",
       "    <tr>\n",
       "      <th>1</th>\n",
       "      <td>lasso</td>\n",
       "      <td>0.952230</td>\n",
       "      <td>{'alpha': 1, 'selection': 'random'}</td>\n",
       "    </tr>\n",
       "    <tr>\n",
       "      <th>2</th>\n",
       "      <td>decision_tree</td>\n",
       "      <td>0.882862</td>\n",
       "      <td>{'criterion': 'squared_error', 'splitter': 'be...</td>\n",
       "    </tr>\n",
       "    <tr>\n",
       "      <th>3</th>\n",
       "      <td>Random_forest</td>\n",
       "      <td>0.784079</td>\n",
       "      <td>{'max_features': 'log2', 'n_estimators': 700}</td>\n",
       "    </tr>\n",
       "    <tr>\n",
       "      <th>4</th>\n",
       "      <td>GradientBoostingRegressor()</td>\n",
       "      <td>0.836502</td>\n",
       "      <td>{}</td>\n",
       "    </tr>\n",
       "  </tbody>\n",
       "</table>\n",
       "</div>"
      ],
      "text/plain": [
       "                         model  best_score  \\\n",
       "0            linear_regression    0.955967   \n",
       "1                        lasso    0.952230   \n",
       "2                decision_tree    0.882862   \n",
       "3                Random_forest    0.784079   \n",
       "4  GradientBoostingRegressor()    0.836502   \n",
       "\n",
       "                                         best_params  \n",
       "0                                                 {}  \n",
       "1                {'alpha': 1, 'selection': 'random'}  \n",
       "2  {'criterion': 'squared_error', 'splitter': 'be...  \n",
       "3      {'max_features': 'log2', 'n_estimators': 700}  \n",
       "4                                                 {}  "
      ]
     },
     "execution_count": 28,
     "metadata": {},
     "output_type": "execute_result"
    }
   ],
   "source": [
    "from sklearn.model_selection import GridSearchCV\n",
    "\n",
    "from sklearn.linear_model import Lasso\n",
    "from sklearn.tree import DecisionTreeRegressor\n",
    "\n",
    "\n",
    "import warnings\n",
    "warnings.filterwarnings('ignore')\n",
    "\n",
    "def find_best_model_using_gridsearchcv(X,y):\n",
    "    algos = {\n",
    "        'linear_regression' : {\n",
    "            'model': LinearRegression(),\n",
    "            'params': {\n",
    "                \n",
    "            }\n",
    "        },\n",
    "        'lasso': {\n",
    "            'model': Lasso(),\n",
    "            'params': {\n",
    "                'alpha': [1,2],\n",
    "                'selection': ['random', 'cyclic']\n",
    "            }\n",
    "        },\n",
    "        'decision_tree': {\n",
    "            'model': DecisionTreeRegressor(),\n",
    "            'params': {\n",
    "                'criterion' : ['squared_error','friedman_mse'],\n",
    "                'splitter': ['best','random']\n",
    "            }\n",
    "        },\n",
    "        'Random_forest' :{\n",
    "            'model':  RandomForestRegressor(),\n",
    "            'params': {\n",
    "                'n_estimators': [200, 700],\n",
    "                'max_features': ['auto', 'sqrt', 'log2']\n",
    "                \n",
    "            }\n",
    "        },\n",
    "        'GradientBoostingRegressor()':{\n",
    "            'model':GradientBoostingRegressor(),\n",
    "            'params': {\n",
    "                \n",
    "            }\n",
    "        }\n",
    "        \n",
    "\n",
    "        \n",
    "    }\n",
    "    scores = []\n",
    "    cv = ShuffleSplit(n_splits=5, test_size=0.2, random_state=0)\n",
    "    for algo_name, config in algos.items():\n",
    "        gs =  GridSearchCV(config['model'], config['params'], cv=cv, return_train_score=False)\n",
    "        gs.fit(X,y)\n",
    "        scores.append({\n",
    "            'model': algo_name,\n",
    "            'best_score': gs.best_score_,\n",
    "            'best_params': gs.best_params_\n",
    "        })\n",
    "\n",
    "    return pd.DataFrame(scores,columns=['model','best_score','best_params'])\n",
    "\n",
    "find_best_model_using_gridsearchcv(X,y)"
   ]
  },
  {
   "cell_type": "code",
   "execution_count": 29,
   "id": "85f0143e",
   "metadata": {},
   "outputs": [],
   "source": [
    "# Get the coefficients (slopes) and intercept (y-intercept)\n",
    "coefficients = model.coef_\n",
    "intercept = model.intercept_\n"
   ]
  },
  {
   "cell_type": "code",
   "execution_count": 30,
   "id": "edf9b453",
   "metadata": {},
   "outputs": [
    {
     "name": "stdout",
     "output_type": "stream",
     "text": [
      "y = -105.09209450560655 + (0.00010521880234370685 * X1) + (0.00024336966155251742 * X2) + (0.007119514508761982 * X3) + (-0.01240970448293741 * X4) + (0.006776578686678256 * X5) + (-0.08345488979271427 * X6) + (8.26607678053101 * X7) + (2.9367223347201112 * X8)\n"
     ]
    }
   ],
   "source": [
    "# Construct the multivariable linear regression equation\n",
    "equation = f'y = {intercept} + '\n",
    "for i, coef in enumerate(coefficients):\n",
    "    equation += f'({coef} * X{i+1})'\n",
    "    if i < len(coefficients) - 1:\n",
    "        equation += ' + '\n",
    "\n",
    "print(equation)"
   ]
  },
  {
   "cell_type": "code",
   "execution_count": null,
   "id": "a7fdcc28",
   "metadata": {},
   "outputs": [],
   "source": []
  }
 ],
 "metadata": {
  "kernelspec": {
   "display_name": "Python 3 (ipykernel)",
   "language": "python",
   "name": "python3"
  },
  "language_info": {
   "codemirror_mode": {
    "name": "ipython",
    "version": 3
   },
   "file_extension": ".py",
   "mimetype": "text/x-python",
   "name": "python",
   "nbconvert_exporter": "python",
   "pygments_lexer": "ipython3",
   "version": "3.9.12"
  }
 },
 "nbformat": 4,
 "nbformat_minor": 5
}
